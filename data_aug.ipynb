{
 "cells": [
  {
   "cell_type": "code",
   "execution_count": 1,
   "metadata": {},
   "outputs": [
    {
     "data": {
      "text/plain": [
       "<torch._C.Generator at 0x1fd1b0d58d0>"
      ]
     },
     "execution_count": 1,
     "metadata": {},
     "output_type": "execute_result"
    }
   ],
   "source": [
    "from PIL import Image\n",
    "import numpy as np\n",
    "import torch\n",
    "from torch.utils.data import Dataset, DataLoader,random_split\n",
    "import torchvision\n",
    "from torchvision import transforms\n",
    "import matplotlib.pyplot as plt\n",
    "import matplotlib as mpl\n",
    "import os\n",
    "import glob\n",
    "from tqdm import tqdm\n",
    "from math import floor\n",
    "from torch.utils.data import random_split\n",
    "import pandas as pd\n",
    "torch.manual_seed(17)"
   ]
  },
  {
   "cell_type": "code",
   "execution_count": null,
   "metadata": {},
   "outputs": [],
   "source": []
  },
  {
   "cell_type": "code",
   "execution_count": 2,
   "metadata": {},
   "outputs": [],
   "source": [
    "transform_img = torchvision.transforms.Compose([    \n",
    "    torchvision.transforms.ColorJitter(hue=.075, saturation=.075),\n",
    "    torchvision.transforms.RandomHorizontalFlip(),\n",
    "    torchvision.transforms.RandomRotation(60,fill=(255,255,255)),\n",
    "    torchvision.transforms.Resize((224,224)),\n",
    "    torchvision.transforms.ToTensor(), \n",
    "])"
   ]
  },
  {
   "cell_type": "code",
   "execution_count": 3,
   "metadata": {},
   "outputs": [],
   "source": [
    "data_dir = \"C:/code/pytorch_course/plant_disease/Data\"\n",
    "train_dir = data_dir + \"\"\n",
    "diseases = os.listdir(train_dir)\n",
    "img_nums = {}\n",
    "for disease in diseases:\n",
    "    img_nums[disease] = len(os.listdir(train_dir + '/' + disease))"
   ]
  },
  {
   "cell_type": "code",
   "execution_count": 4,
   "metadata": {},
   "outputs": [],
   "source": [
    "input_dict={}\n",
    "for disease in img_nums:\n",
    "    EPOCHS=int(floor(3000/img_nums[disease]))\n",
    "    input_dict[disease] = (img_nums[disease],EPOCHS)\n"
   ]
  },
  {
   "cell_type": "code",
   "execution_count": 5,
   "metadata": {},
   "outputs": [
    {
     "data": {
      "text/plain": [
       "{'Apple__black_rot': (3105, 0),\n",
       " 'Apple__healthy': (3298, 0),\n",
       " 'Apple__rust': (3213, 0),\n",
       " 'Apple__scab': (3500, 0),\n",
       " 'Cassava__bacterial_blight': (3402, 0),\n",
       " 'Cassava__brown_streak_disease': (3348, 0),\n",
       " 'Cassava__green_mottle': (3297, 0),\n",
       " 'Cassava__healthy': (3385, 0),\n",
       " 'Cassava__mosaic_disease': (3108, 0),\n",
       " 'Cherry__healthy': (3624, 0),\n",
       " 'Cherry__powdery_mildew': (3156, 0),\n",
       " 'Coffee__healthy': (3073, 0),\n",
       " 'Coffee__rust': (3094, 0),\n",
       " 'Corn__common_rust': (3924, 0),\n",
       " 'Corn__gray_leaf_spot': (3282, 0),\n",
       " 'Corn__healthy': (3486, 0),\n",
       " 'Corn__northern_leaf_blight': (3669, 0),\n",
       " 'Cucumber__diseased': (3150, 0),\n",
       " 'Cucumber__healthy': (3069, 0),\n",
       " 'Grape__black_measles': (4149, 0),\n",
       " 'Grape__black_rot': (4239, 0),\n",
       " 'Grape__healthy': (3290, 0),\n",
       " 'Grape__leaf_blight_(isariopsis_leaf_spot)': (3556, 0),\n",
       " 'Mango__Anthracnose': (3500, 0),\n",
       " 'Mango__Bacterial Canker': (3500, 0),\n",
       " 'Mango__Cutting Weevil': (3500, 0),\n",
       " 'Mango__Die Back': (3500, 0),\n",
       " 'Mango__Gall Midge': (3500, 0),\n",
       " 'Mango__Healthy': (3500, 0),\n",
       " 'Mango__Powdery Mildew': (3500, 0),\n",
       " 'Mango__Sooty Mould': (3500, 0),\n",
       " 'Peach__bacterial_spot': (4594, 0),\n",
       " 'Peach__healthy': (3267, 0),\n",
       " 'Pepper_bell__bacterial_spot': (3201, 0),\n",
       " 'Pepper_bell__healthy': (3078, 0),\n",
       " 'Potato__early_blight': (3288, 0),\n",
       " 'Potato__late_blight': (3279, 0),\n",
       " 'Rice__brown_spot': (3265, 0),\n",
       " 'Rice__healthy': (4464, 0),\n",
       " 'Rice__hispa': (3390, 0),\n",
       " 'Rice__leaf_blast': (3924, 0),\n",
       " 'Rice__neck_blast': (4000, 0),\n",
       " 'Soybean__caterpillar': (3309, 0),\n",
       " 'Soybean__diabrotica_speciosa': (4410, 0),\n",
       " 'Soybean__healthy': (3998, 0),\n",
       " 'Strawberry__healthy': (3192, 0),\n",
       " 'Strawberry___leaf_scorch': (2322, 1),\n",
       " 'Tea__algal_leaf': (339, 8),\n",
       " 'Tea__anthracnose': (300, 10),\n",
       " 'Tea__bird_eye_spot': (300, 10),\n",
       " 'Tea__brown_blight': (339, 8),\n",
       " 'Tea__healthy': (222, 13),\n",
       " 'Tea__red_leaf_spot': (429, 6),\n",
       " 'Tomato__bacterial_spot': (2136, 1),\n",
       " 'Tomato__early_blight': (1009, 2),\n",
       " 'Tomato__healthy': (1598, 1),\n",
       " 'Tomato__late_blight': (1919, 1),\n",
       " 'Tomato__leaf_mold': (957, 3),\n",
       " 'Tomato__mosaic_virus': (382, 7),\n",
       " 'Tomato__septoria_leaf_spot': (1782, 1),\n",
       " 'Tomato__spider_mites_(two_spotted_spider_mite)': (1676, 1),\n",
       " 'Tomato__target_spot': (1404, 2),\n",
       " 'Tomato__yellow_leaf_curl_virus': (3214, 0)}"
      ]
     },
     "execution_count": 5,
     "metadata": {},
     "output_type": "execute_result"
    }
   ],
   "source": [
    "input_dict"
   ]
  },
  {
   "cell_type": "code",
   "execution_count": 6,
   "metadata": {},
   "outputs": [
    {
     "name": "stderr",
     "output_type": "stream",
     "text": [
      "100%|██████████| 63/63 [2:19:28<00:00, 132.83s/it]  \n"
     ]
    }
   ],
   "source": [
    "import os\n",
    "import torchvision.transforms as transforms\n",
    "from torch.utils.data import DataLoader, ConcatDataset, random_split\n",
    "from torch.utils.data import WeightedRandomSampler\n",
    "from PIL import Image\n",
    "\n",
    "class CustomDataset(torch.utils.data.Dataset):\n",
    "    def __init__(self, root, transform=None):\n",
    "        self.root = root\n",
    "        self.transform = transform\n",
    "        self.images = [os.path.join(root, img) for img in os.listdir(root)]\n",
    "\n",
    "    def __len__(self):\n",
    "        return len(self.images)\n",
    "\n",
    "    def __getitem__(self, idx):\n",
    "        img_path = self.images[idx]\n",
    "        img = Image.open(img_path).convert('RGB')\n",
    "        label = self.root\n",
    "\n",
    "        return img, label\n",
    "\n",
    "# Specify your data transformation here\n",
    "transform = transforms.Compose([\n",
    "    # Add your desired transformations here, e.g., random rotation, flip, etc.\n",
    "    transforms.RandomHorizontalFlip(),\n",
    "    transforms.RandomVerticalFlip(),\n",
    "    transforms.RandomRotation(degrees=30),\n",
    "    transforms.ColorJitter(brightness=0.2, contrast=0.2, saturation=0.2, hue=0.2),\n",
    "    transforms.ToTensor(),\n",
    "])\n",
    "\n",
    "# Create an empty list to store datasets\n",
    "datasets = []\n",
    "\n",
    "# Iterate over the dictionary\n",
    "for class_name, (num_images, num_augmentations) in tqdm(input_dict.items()):\n",
    "    # Define the dataset for each class\n",
    "    dir = os.path.join(data_dir,class_name)\n",
    "    dataset = CustomDataset(dir, transform=transform)\n",
    "    # Create a folder to save augmented images\n",
    "    save_folder = os.path.join(data_dir, f\"{class_name}\")\n",
    "    os.makedirs(save_folder, exist_ok=True)\n",
    "\n",
    "    # Apply transformations and save the augmented images  \n",
    "    for idx in range(len(dataset)): \n",
    "        for i in range(num_augmentations):\n",
    "            img, label = dataset[idx]\n",
    "            augmented_img = transform_img(img)\n",
    "            # Save augmented image\n",
    "            save_path = os.path.join(save_folder, f\"{idx}_{i}_augmented.png\")\n",
    "            torchvision.utils.save_image(augmented_img, save_path)\n"
   ]
  }
 ],
 "metadata": {
  "kernelspec": {
   "display_name": "Python 3",
   "language": "python",
   "name": "python3"
  },
  "language_info": {
   "codemirror_mode": {
    "name": "ipython",
    "version": 3
   },
   "file_extension": ".py",
   "mimetype": "text/x-python",
   "name": "python",
   "nbconvert_exporter": "python",
   "pygments_lexer": "ipython3",
   "version": "3.10.4"
  }
 },
 "nbformat": 4,
 "nbformat_minor": 2
}
